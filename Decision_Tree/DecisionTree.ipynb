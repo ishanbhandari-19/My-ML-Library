{
  "nbformat": 4,
  "nbformat_minor": 0,
  "metadata": {
    "colab": {
      "name": "DecisionTree.ipynb",
      "provenance": []
    },
    "kernelspec": {
      "name": "python3",
      "display_name": "Python 3"
    }
  },
  "cells": [
    {
      "cell_type": "code",
      "metadata": {
        "id": "SEtyAy3UB1hN",
        "colab_type": "code",
        "colab": {}
      },
      "source": [
        "import numpy as np\n",
        "import pandas as pd\n",
        "import random"
      ],
      "execution_count": 0,
      "outputs": []
    },
    {
      "cell_type": "code",
      "metadata": {
        "id": "Vq76b7ZGB_h6",
        "colab_type": "code",
        "colab": {}
      },
      "source": [
        "import decisiontree as dt"
      ],
      "execution_count": 0,
      "outputs": []
    },
    {
      "cell_type": "code",
      "metadata": {
        "id": "zbpAwer5Cyi0",
        "colab_type": "code",
        "colab": {}
      },
      "source": [
        "df = pd.read_csv(\"/content/Iris.csv\")"
      ],
      "execution_count": 0,
      "outputs": []
    },
    {
      "cell_type": "code",
      "metadata": {
        "id": "DMA8DulHC6AD",
        "colab_type": "code",
        "colab": {}
      },
      "source": [
        "a = dt.Decision_Tree()"
      ],
      "execution_count": 0,
      "outputs": []
    },
    {
      "cell_type": "code",
      "metadata": {
        "id": "CurvbUtdDKzT",
        "colab_type": "code",
        "colab": {}
      },
      "source": [
        "train_df,test_df = a.train_test_split(df,0.2)"
      ],
      "execution_count": 0,
      "outputs": []
    },
    {
      "cell_type": "code",
      "metadata": {
        "id": "o60AbZUxDWDd",
        "colab_type": "code",
        "colab": {}
      },
      "source": [
        "a.train()\n",
        "tree = a.fit(train_df)"
      ],
      "execution_count": 0,
      "outputs": []
    },
    {
      "cell_type": "code",
      "metadata": {
        "id": "8FkKlzGeDfk9",
        "colab_type": "code",
        "colab": {
          "base_uri": "https://localhost:8080/",
          "height": 222
        },
        "outputId": "8f8eed7f-0113-4ea3-bcab-12c57d15f564"
      },
      "source": [
        "import pprint\n",
        "print(\"My Tree:\\n\")\n",
        "pprint.pprint(tree,width =1)"
      ],
      "execution_count": 7,
      "outputs": [
        {
          "output_type": "stream",
          "text": [
            "My Tree:\n",
            "\n",
            "{'petal_width <= 0.75': ['setosa',\n",
            "                         {'petal_length <= 4.75': [{'petal_width <= 1.65': ['versicolor',\n",
            "                                                                            'virginica']},\n",
            "                                                   {'petal_width <= 1.85': [{'petal_length <= 5.3': [{'sepal_width <= 3.05': [{'petal_width <= 1.75': [{'petal_width <= 1.55': ['virginica',\n",
            "                                                                                                                                                                                'versicolor']},\n",
            "                                                                                                                                                       'virginica']},\n",
            "                                                                                                                              'versicolor']},\n",
            "                                                                                                     'virginica']},\n",
            "                                                                            'virginica']}]}]}\n"
          ],
          "name": "stdout"
        }
      ]
    },
    {
      "cell_type": "code",
      "metadata": {
        "id": "sNRtHAqRDaax",
        "colab_type": "code",
        "colab": {}
      },
      "source": [
        "pred = a.predict(test_df)"
      ],
      "execution_count": 0,
      "outputs": []
    },
    {
      "cell_type": "code",
      "metadata": {
        "id": "0BiWds2QEn2q",
        "colab_type": "code",
        "colab": {
          "base_uri": "https://localhost:8080/",
          "height": 118
        },
        "outputId": "f4cefe7e-49c8-4845-89f9-5f6dee8bb2b3"
      },
      "source": [
        "pred"
      ],
      "execution_count": 9,
      "outputs": [
        {
          "output_type": "execute_result",
          "data": {
            "text/plain": [
              "array(['setosa', 'setosa', 'virginica', 'setosa', 'virginica',\n",
              "       'versicolor', 'virginica', 'setosa', 'setosa', 'setosa',\n",
              "       'virginica', 'setosa', 'versicolor', 'versicolor', 'versicolor',\n",
              "       'setosa', 'setosa', 'virginica', 'setosa', 'setosa', 'virginica',\n",
              "       'virginica', 'virginica', 'setosa', 'setosa', 'virginica',\n",
              "       'virginica', 'versicolor', 'versicolor', 'virginica'], dtype='<U10')"
            ]
          },
          "metadata": {
            "tags": []
          },
          "execution_count": 9
        }
      ]
    },
    {
      "cell_type": "code",
      "metadata": {
        "id": "XNIhpbXYErt2",
        "colab_type": "code",
        "colab": {
          "base_uri": "https://localhost:8080/",
          "height": 34
        },
        "outputId": "ed85ec4f-9041-47c7-e21a-3dd00f52f5d7"
      },
      "source": [
        "print(\"My Test Accuracy : \", a.accuracy(test_df,pred))"
      ],
      "execution_count": 10,
      "outputs": [
        {
          "output_type": "stream",
          "text": [
            "My Test Accuracy :  0.9333333333333333\n"
          ],
          "name": "stdout"
        }
      ]
    },
    {
      "cell_type": "code",
      "metadata": {
        "id": "Jnt6lhAjE0bg",
        "colab_type": "code",
        "colab": {}
      },
      "source": [
        ""
      ],
      "execution_count": 0,
      "outputs": []
    },
    {
      "cell_type": "code",
      "metadata": {
        "id": "zL-2li95Firp",
        "colab_type": "code",
        "colab": {}
      },
      "source": [
        ""
      ],
      "execution_count": 0,
      "outputs": []
    }
  ]
}