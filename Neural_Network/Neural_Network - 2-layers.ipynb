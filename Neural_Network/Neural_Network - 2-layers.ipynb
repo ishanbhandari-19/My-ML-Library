{
  "nbformat": 4,
  "nbformat_minor": 0,
  "metadata": {
    "colab": {
      "name": " neural 2 layers.ipynb",
      "provenance": [],
      "collapsed_sections": []
    },
    "kernelspec": {
      "name": "python3",
      "display_name": "Python 3"
    }
  },
  "cells": [
    {
      "cell_type": "code",
      "metadata": {
        "id": "oMgLbvlrTyjv",
        "colab_type": "code",
        "colab": {}
      },
      "source": [
        "import numpy as np\n",
        "import pandas as pd\n",
        "import matplotlib.pyplot as plt\n"
      ],
      "execution_count": 0,
      "outputs": []
    },
    {
      "cell_type": "code",
      "metadata": {
        "id": "Y78hFDbHT6m9",
        "colab_type": "code",
        "colab": {}
      },
      "source": [
        "class Neural_Network:\n",
        "    def train(self,alpha=0.07,n_iter = 2000, lam = 0.15):\n",
        "        self.alpha = alpha\n",
        "        self.n_iter = n_iter\n",
        "        self.lam = lam\n",
        "        self.J_hist = []\n",
        "        self.noi = []\n",
        "    def sigmoid(self,x):\n",
        "        return  1/(1+np.exp(-x))\n",
        "    def fit(self,X,y,k,uni):\n",
        "        m = X.shape[0]\n",
        "        n = X.shape[1]\n",
        "        X = self.normalize(X)\n",
        "        self.w1 = np.random.randn(uni,n+1)\n",
        "        self.w2 = np.random.randn(k,uni+1)\n",
        "        Y_k = np.zeros((m,k))\n",
        "        no = 0\n",
        "        for i in range(m):\n",
        "            Y_k[i,y[i]] = 1\n",
        "        for j in range(self.n_iter):\n",
        "             for i in range(m//50):\n",
        "                delta1 =0\n",
        "                delta2 =0\n",
        "                grad1 =0\n",
        "                grad2 =0\n",
        "                a1 = X[i*50:i*50+50,:]\n",
        "                yk = Y_k[i*50:i*50 + 50,:]\n",
        "                a1 = a1.T\n",
        "                yk = yk.T \n",
        "                z2 = self.w1@a1\n",
        "                a2 = self.sigmoid(z2)\n",
        "                a2 = np.vstack((np.ones((1,50)),a2))\n",
        "                z3 = self.w2@a2\n",
        "                a3 = self.sigmoid(z3)\n",
        "                cost = np.sum(-1*(yk*np.log(a3) + (1-yk)*np.log(1-a3)))/50\n",
        "                cost = cost + (self.lam/100)*(np.sum(self.w1[:,1:]**2) + np.sum(self.w2[:,1:]**2))\n",
        "                \n",
        "                no+=1\n",
        "                self.J_hist.append(cost)\n",
        "                self.noi.append(no)\n",
        "                del3 = a3 - yk\n",
        "                a2_ = self.sigmoid(z2)\n",
        "                del2 = ((self.w2.T@del3)[1:,:])*(a2_*(1-a2_))\n",
        "                delta2 = delta2 + (del3@a2.T)\n",
        "                delta1 = delta1 + (del2@a1.T)  \n",
        "                w1tem = self.w1\n",
        "                w2tem = self.w2\n",
        "                w1tem[:,0:1] = np.zeros((uni,1))\n",
        "                w2tem[:,0:1] = np.zeros((k,1))\n",
        "                grad2 = (delta2 + (self.lam*w2tem))/50\n",
        "                grad1 = (delta1 + (self.lam*w1tem))/50\n",
        "                self.w1 = self.w1 - self.alpha*grad1\n",
        "                self.w2 = self.w2 - self.alpha*grad2\n",
        "             if(j%50==0):\n",
        "                 print(cost)         \n",
        "   \n",
        "    def predict(self,X):\n",
        "       X = self.normalize(X)\n",
        "       m = X.shape[0]\n",
        "       X = X.T\n",
        "       q = self.sigmoid(self.w1@X)\n",
        "       q = np.vstack((np.ones((1,m)),q))\n",
        "       y_pred = self.sigmoid(self.w2@q)\n",
        "       y_pred = y_pred.argmax(axis =0)\n",
        "       return y_pred\n",
        "    def accuracy(self,y_pred,y_test):\n",
        "       m = len(y_pred)\n",
        "       sum1=0\n",
        "       for i in range(m):\n",
        "           if(y_pred[i]==y_test[i]):\n",
        "               sum1+=1\n",
        "       return (sum1/m)*100    \n",
        "    def plot_learn(self):\n",
        "      plt.plot(self.noi,self.J_hist)\n",
        "      plt.xlabel(\"Number Of Iterations\")\n",
        "      plt.ylabel(\"Cost Function\")\n",
        "      plt.title(\"Cost Function vs Iteration\")\n",
        "      \n",
        "    def normalize(self,X):\n",
        "        m = X.shape[0]\n",
        "        for i in range(X.shape[1]):\n",
        "            X[:,i] = (X[:,i] - np.mean(X[:,i]))/(np.std(X[:,i]) + np.exp(-9))\n",
        "        X = np.hstack((np.ones((m, 1)), X))\n",
        "        return X\n",
        "  \n",
        "      \n",
        "         \n",
        "        \n",
        "         \n",
        "   "
      ],
      "execution_count": 0,
      "outputs": []
    },
    {
      "cell_type": "code",
      "metadata": {
        "id": "5uwFssZBj9Ot",
        "colab_type": "code",
        "colab": {}
      },
      "source": [
        "df = pd.read_csv('sample_data/mnist_train_small.csv',header = None)"
      ],
      "execution_count": 0,
      "outputs": []
    },
    {
      "cell_type": "code",
      "metadata": {
        "id": "AnZAoMmZkGYb",
        "colab_type": "code",
        "colab": {}
      },
      "source": [
        "X_train = np.array(df.iloc[:,1:785])\n",
        "y_train = np.array(df.iloc[:,0])"
      ],
      "execution_count": 0,
      "outputs": []
    },
    {
      "cell_type": "code",
      "metadata": {
        "id": "O8Z4Yo_hkKKM",
        "colab_type": "code",
        "colab": {}
      },
      "source": [
        "a = Neural_Network()\n",
        "a.train()"
      ],
      "execution_count": 0,
      "outputs": []
    },
    {
      "cell_type": "code",
      "metadata": {
        "id": "3XaoF_2qkS6K",
        "colab_type": "code",
        "outputId": "f88fa422-3b11-4088-a435-e0b07581966d",
        "colab": {
          "base_uri": "https://localhost:8080/",
          "height": 689
        }
      },
      "source": [
        "a.fit(X_train,y_train,10,40)"
      ],
      "execution_count": 0,
      "outputs": [
        {
          "output_type": "stream",
          "text": [
            "42.788670691227004\n",
            "1.1440821920870874\n",
            "1.1003700143153667\n",
            "1.0867284084338453\n",
            "1.0831078602581612\n",
            "1.0848123834335381\n",
            "1.085171483793224\n",
            "1.0849233227956012\n",
            "1.0843895362869955\n",
            "1.0833108995906546\n",
            "1.080625652233004\n",
            "1.0776893632100997\n",
            "1.0765222072740708\n",
            "1.0772630632857854\n",
            "1.074810532386222\n",
            "1.0741099501063778\n",
            "1.0752160048488624\n",
            "1.076158152313827\n",
            "1.077241402128593\n",
            "1.0786916593800646\n",
            "1.079945645689241\n",
            "1.0809920319013488\n",
            "1.0824469178209377\n",
            "1.0834563513994222\n",
            "1.0839043532570822\n",
            "1.0841762007552114\n",
            "1.0843598161858732\n",
            "1.0844794191194809\n",
            "1.0845974019697746\n",
            "1.084740198776967\n",
            "1.0849132750167128\n",
            "1.085176643520095\n",
            "1.0854337099779627\n",
            "1.0856580031689262\n",
            "1.0862721183222956\n",
            "1.0864924199116224\n",
            "1.0865480987576883\n",
            "1.0866263419083284\n",
            "1.0866989644302736\n",
            "1.0867511025880123\n"
          ],
          "name": "stdout"
        }
      ]
    },
    {
      "cell_type": "code",
      "metadata": {
        "id": "LcR8cpfXkZu3",
        "colab_type": "code",
        "colab": {}
      },
      "source": [
        "y_pred = a.predict(X_train)"
      ],
      "execution_count": 0,
      "outputs": []
    },
    {
      "cell_type": "code",
      "metadata": {
        "id": "GL-Wz6DYqqLe",
        "colab_type": "code",
        "outputId": "e6520d5f-16f8-411e-fb1d-2ee55319376b",
        "colab": {
          "base_uri": "https://localhost:8080/",
          "height": 34
        }
      },
      "source": [
        "a.accuracy(y_pred,y_train)"
      ],
      "execution_count": 0,
      "outputs": [
        {
          "output_type": "execute_result",
          "data": {
            "text/plain": [
              "93.84"
            ]
          },
          "metadata": {
            "tags": []
          },
          "execution_count": 55
        }
      ]
    },
    {
      "cell_type": "code",
      "metadata": {
        "id": "iln3XsrnxLGP",
        "colab_type": "code",
        "colab": {}
      },
      "source": [
        "df1 = pd.read_csv('sample_data/mnist_test.csv',header = None)\n",
        "X_test = np.array(df1.iloc[:,1:785])\n",
        "y_test = np.array(df1.iloc[:,0])"
      ],
      "execution_count": 0,
      "outputs": []
    },
    {
      "cell_type": "code",
      "metadata": {
        "id": "3ix9Ih__xUV3",
        "colab_type": "code",
        "colab": {}
      },
      "source": [
        "y_pred = a.predict(X_test)"
      ],
      "execution_count": 0,
      "outputs": []
    },
    {
      "cell_type": "code",
      "metadata": {
        "id": "Iwjwm1awxhNg",
        "colab_type": "code",
        "outputId": "740d9aeb-0707-40a5-cd7c-3f6d47436875",
        "colab": {
          "base_uri": "https://localhost:8080/",
          "height": 34
        }
      },
      "source": [
        "a.accuracy(y_pred,y_test)"
      ],
      "execution_count": 0,
      "outputs": [
        {
          "output_type": "execute_result",
          "data": {
            "text/plain": [
              "91.97999999999999"
            ]
          },
          "metadata": {
            "tags": []
          },
          "execution_count": 58
        }
      ]
    },
    {
      "cell_type": "code",
      "metadata": {
        "id": "JWvwQbucxlaO",
        "colab_type": "code",
        "outputId": "bc1ac58c-cd0f-4782-c2de-0fab615956cd",
        "colab": {
          "base_uri": "https://localhost:8080/",
          "height": 295
        }
      },
      "source": [
        "a.plot_learn()"
      ],
      "execution_count": 0,
      "outputs": [
        {
          "output_type": "display_data",
          "data": {
            "image/png": "[encoded data removed]",
            "text/plain": [
              "<Figure size 432x288 with 1 Axes>"
            ]
          },
          "metadata": {
            "tags": []
          }
        }
      ]
    },
    {
      "cell_type": "code",
      "metadata": {
        "id": "IcXiGaIcyCDs",
        "colab_type": "code",
        "colab": {}
      },
      "source": [
        ""
      ],
      "execution_count": 0,
      "outputs": []
    }
  ]
}
